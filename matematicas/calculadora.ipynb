{
 "cells": [
  {
   "cell_type": "code",
   "execution_count": 2,
   "id": "0cb190eb",
   "metadata": {},
   "outputs": [
    {
     "name": "stdout",
     "output_type": "stream",
     "text": [
      "8\n"
     ]
    }
   ],
   "source": [
    "import modulo1\n",
    "\n",
    "resultado = modulo1.suma(5, 3)\n",
    "print(resultado)  # Imprimirá 8"
   ]
  },
  {
   "cell_type": "code",
   "execution_count": 9,
   "id": "bced9484",
   "metadata": {},
   "outputs": [
    {
     "name": "stdout",
     "output_type": "stream",
     "text": [
      "2\n"
     ]
    }
   ],
   "source": [
    "import modulo2\n",
    "\n",
    "resultado = modulo2.resta(10, 8)\n",
    "print(resultado) "
   ]
  },
  {
   "cell_type": "code",
   "execution_count": 10,
   "id": "deecb054",
   "metadata": {},
   "outputs": [
    {
     "name": "stdout",
     "output_type": "stream",
     "text": [
      "30\n"
     ]
    }
   ],
   "source": [
    "import modulo3\n",
    "\n",
    "resultado = modulo3.multiplicacion(3, 10)\n",
    "print(resultado) "
   ]
  },
  {
   "cell_type": "code",
   "execution_count": 12,
   "id": "1c682dbd",
   "metadata": {},
   "outputs": [
    {
     "name": "stdout",
     "output_type": "stream",
     "text": [
      "10.0\n"
     ]
    }
   ],
   "source": [
    "import modulo4\n",
    "\n",
    "resultado = modulo4.divicion(40, 4)\n",
    "print(resultado) "
   ]
  },
  {
   "cell_type": "code",
   "execution_count": 19,
   "id": "0a80d5cc",
   "metadata": {},
   "outputs": [
    {
     "name": "stdout",
     "output_type": "stream",
     "text": [
      "1\n"
     ]
    }
   ],
   "source": [
    "import modulo5\n",
    "\n",
    "resultado = modulo5.porcentaje(10, 3)\n",
    "print(resultado) "
   ]
  },
  {
   "cell_type": "code",
   "execution_count": 20,
   "id": "fec67155",
   "metadata": {},
   "outputs": [
    {
     "name": "stdout",
     "output_type": "stream",
     "text": [
      "10000000000\n"
     ]
    }
   ],
   "source": [
    "import modulo6\n",
    "\n",
    "resultado = modulo6.elevado(10, 10)\n",
    "print(resultado)"
   ]
  },
  {
   "cell_type": "code",
   "execution_count": 8,
   "id": "1e933671",
   "metadata": {},
   "outputs": [
    {
     "name": "stdout",
     "output_type": "stream",
     "text": [
      "10\n"
     ]
    }
   ],
   "source": [
    "import modulo7\n",
    "\n",
    "resultado = modulo7.cociente(100, 10)\n",
    "print(resultado)"
   ]
  },
  {
   "cell_type": "code",
   "execution_count": 1,
   "id": "c5003aa9",
   "metadata": {},
   "outputs": [
    {
     "name": "stdout",
     "output_type": "stream",
     "text": [
      "Calculadora en Python\n",
      "Operaciones disponibles:\n",
      "1. Suma\n",
      "2. Resta\n",
      "3. Multiplicación\n",
      "4. División\n",
      "5. Porcentaje\n",
      "6. Cuadrado\n",
      "7. Raíz Cuadrada\n"
     ]
    }
   ],
   "source": [
    "import modulo1\n",
    "import modulo2\n",
    "import modulo3\n",
    "import modulo4\n",
    "import modulo5\n",
    "import modulo6\n",
    "import modulo7\n",
    "\n",
    "print(\"Operaciones:\")\n",
    "print(\"1. Suma\")\n",
    "print(\"2. Resta\")\n",
    "print(\"3. Multiplicación\")\n",
    "print(\"4. División\")\n",
    "print(\"5. Porcentaje\")\n",
    "print(\"6. Cuadrado\")\n",
    "print(\"7. Raíz Cuadrada\")\n",
    "\n",
    "# Elegir una operación\n",
    "opcion = int(input(\"\\nSeleccione una operación (1-7): \"))\n",
    "\n",
    "if opcion in range(1, 8):  # Cambiado el rango para incluir la opción 7\n",
    "    a = float(input(\"Ingrese el primer número: \"))\n",
    "    if opcion in [1, 2, 3, 4, 5]:\n",
    "        b = float(input(\"Ingrese el segundo número: \"))\n",
    "    \n",
    "    if opcion == 1:\n",
    "        resultado = modulo1.suma(a, b)\n",
    "    elif opcion == 2:\n",
    "        resultado = modulo2.resta(a, b)\n",
    "    elif opcion == 3:\n",
    "        resultado = modulo3.multiplicacion(a, b)\n",
    "    elif opcion == 4:\n",
    "        resultado = modulo4.divicion(a, b)\n",
    "    elif opcion == 5:\n",
    "        resultado = modulo5.porcentaje(a, b)\n",
    "    elif opcion == 6:\n",
    "        resultado = modulo6.cuadrado(a)\n",
    "    elif opcion == 7:\n",
    "        resultado = modulo7.raiz_cuadrada(a)\n",
    "    print(\"Resultado:\", resultado)\n",
    "else:\n",
    "    print(\"Error. Por favor, elija una opción del 1 al 7.\")\n"
   ]
  }
 ],
 "metadata": {
  "kernelspec": {
   "display_name": "Python 3 (ipykernel)",
   "language": "python",
   "name": "python3"
  },
  "language_info": {
   "codemirror_mode": {
    "name": "ipython",
    "version": 3
   },
   "file_extension": ".py",
   "mimetype": "text/x-python",
   "name": "python",
   "nbconvert_exporter": "python",
   "pygments_lexer": "ipython3",
   "version": "3.12.0"
  }
 },
 "nbformat": 4,
 "nbformat_minor": 5
}
