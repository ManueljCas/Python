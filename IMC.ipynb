{
 "cells": [
  {
   "cell_type": "code",
   "execution_count": 3,
   "id": "e48b6b28",
   "metadata": {},
   "outputs": [
    {
     "name": "stdout",
     "output_type": "stream",
     "text": [
      "Manuel Jesús Castro Pech está en Sobrepeso: IMC 27.7\n"
     ]
    }
   ],
   "source": [
    "from datos import datos_persona\n",
    "\n",
    "def imc(persona):\n",
    "    nombre = persona[\"nombre\"]\n",
    "    ap_paterno = persona[\"ap_paterno\"]\n",
    "    ap_materno = persona[\"ap_materno\"]\n",
    "    peso = persona[\"peso\"]\n",
    "    altura = persona[\"estatura\"]\n",
    "\n",
    "    imc_p = peso / altura ** 2\n",
    "\n",
    "    categorias = [\n",
    "        (18.5, \"Bajo peso\"),\n",
    "        (24.9, \"Normal\"),\n",
    "        (29.9, \"Sobrepeso\"),\n",
    "        (float('inf'), \"Obesidad\")\n",
    "    ]\n",
    "\n",
    "    for limite, descripcion in categorias:\n",
    "        if imc_p <= limite:\n",
    "            print(f\"{nombre} {ap_paterno} {ap_materno} está en {descripcion}: IMC {round(imc_p, 1)}\")\n",
    "            break\n",
    "\n",
    "imc(datos_persona)\n",
    "\n"
   ]
  }
 ],
 "metadata": {
  "kernelspec": {
   "display_name": "Python 3 (ipykernel)",
   "language": "python",
   "name": "python3"
  },
  "language_info": {
   "codemirror_mode": {
    "name": "ipython",
    "version": 3
   },
   "file_extension": ".py",
   "mimetype": "text/x-python",
   "name": "python",
   "nbconvert_exporter": "python",
   "pygments_lexer": "ipython3",
   "version": "3.11.4"
  }
 },
 "nbformat": 4,
 "nbformat_minor": 5
}
