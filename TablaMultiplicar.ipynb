{
 "cells": [
  {
   "cell_type": "code",
   "execution_count": 1,
   "id": "bf9d8a2f",
   "metadata": {},
   "outputs": [
    {
     "name": "stdout",
     "output_type": "stream",
     "text": [
      "Ingresa un número donde especifiques con qué tabla empezarás: 1\n",
      "Ingresa un número donde especifiques cuántas tablas seran: 1\n",
      "Ingresa un número donde especifiques el dato multiplicador: 1\n",
      "Ingresa un número donde especifiques con qué numero de datos finlizaras la tabla: 1\n",
      "Tabla de multiplicar de 1:\n",
      "1 x 1 = 1\n"
     ]
    }
   ],
   "source": [
    "#Mi intento\n",
    "\n",
    "tabla_inicio = int(input(\"Ingresa un número donde especifiques con qué tabla empezarás: \"))\n",
    "datos_tabla = int(input(\"Ingresa un número donde especifiques cuántas tablas seran: \"))\n",
    "multiplicado = int(input(\"Ingresa un número donde especifiques el dato multiplicador: \"))\n",
    "tablas_final = int(input(\"Ingresa un número donde especifiques con qué numero de datos finlizaras la tabla: \"))\n",
    "\n",
    "for tabla_actual in range(tabla_inicio, tabla_inicio + datos_tabla):\n",
    "    print(f'Tabla de multiplicar de {tabla_actual}:')\n",
    "    for multiplicador in range(multiplicado, tablas_final + 1):\n",
    "        print(f'{tabla_actual} x {multiplicador} = {tabla_actual * multiplicador}')"
   ]
  },
  {
   "cell_type": "code",
   "execution_count": 2,
   "id": "08d2ef78",
   "metadata": {},
   "outputs": [
    {
     "name": "stdout",
     "output_type": "stream",
     "text": [
      "Ingresa el inicio del rango 1\n",
      "Ingresa el final del rango 1\n",
      "Ingresa el inicio de la tabla 1\n",
      "Ingresa el final de la tabla 1\n",
      "La tabla del 1\n",
      "1 x 1 = 1\n"
     ]
    }
   ],
   "source": [
    "#Respuesta del profesor\n",
    "\n",
    "inicio_r = int(input(\"Ingresa el inicio del rango \"))\n",
    "final_r = int(input(\"Ingresa el final del rango \"))\n",
    "\n",
    "inicio_t = int(input(\"Ingresa el inicio de la tabla \"))\n",
    "final_t = int(input(\"Ingresa el final de la tabla \"))\n",
    "\n",
    "for i in range(inicio_r,final_r + 1):\n",
    "    print (f\"La tabla del {i}\")\n",
    "    for j in range(inicio_t,final_t + 1):\n",
    "        print(f\"{i} x {j} = {i*j}\")"
   ]
  }
 ],
 "metadata": {
  "kernelspec": {
   "display_name": "Python 3 (ipykernel)",
   "language": "python",
   "name": "python3"
  },
  "language_info": {
   "codemirror_mode": {
    "name": "ipython",
    "version": 3
   },
   "file_extension": ".py",
   "mimetype": "text/x-python",
   "name": "python",
   "nbconvert_exporter": "python",
   "pygments_lexer": "ipython3",
   "version": "3.11.4"
  }
 },
 "nbformat": 4,
 "nbformat_minor": 5
}
