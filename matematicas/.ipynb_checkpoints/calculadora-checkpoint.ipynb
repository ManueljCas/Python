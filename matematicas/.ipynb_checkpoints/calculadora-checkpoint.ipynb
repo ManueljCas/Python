{
 "cells": [
  {
   "cell_type": "code",
   "execution_count": 2,
   "id": "0cb190eb",
   "metadata": {},
   "outputs": [
    {
     "name": "stdout",
     "output_type": "stream",
     "text": [
      "8\n"
     ]
    }
   ],
   "source": [
    "import modulo1\n",
    "\n",
    "resultado = modulo1.suma(5, 3)\n",
    "print(resultado)  # Imprimirá 8"
   ]
  },
  {
   "cell_type": "code",
   "execution_count": 9,
   "id": "bced9484",
   "metadata": {},
   "outputs": [
    {
     "name": "stdout",
     "output_type": "stream",
     "text": [
      "2\n"
     ]
    }
   ],
   "source": [
    "import modulo2\n",
    "\n",
    "resultado = modulo2.resta(10, 8)\n",
    "print(resultado) "
   ]
  },
  {
   "cell_type": "code",
   "execution_count": 10,
   "id": "deecb054",
   "metadata": {},
   "outputs": [
    {
     "name": "stdout",
     "output_type": "stream",
     "text": [
      "30\n"
     ]
    }
   ],
   "source": [
    "import modulo3\n",
    "\n",
    "resultado = modulo3.multiplicacion(3, 10)\n",
    "print(resultado) "
   ]
  },
  {
   "cell_type": "code",
   "execution_count": 12,
   "id": "1c682dbd",
   "metadata": {},
   "outputs": [
    {
     "name": "stdout",
     "output_type": "stream",
     "text": [
      "10.0\n"
     ]
    }
   ],
   "source": [
    "import modulo4\n",
    "\n",
    "resultado = modulo4.divicion(40, 4)\n",
    "print(resultado) "
   ]
  },
  {
   "cell_type": "code",
   "execution_count": 19,
   "id": "0a80d5cc",
   "metadata": {},
   "outputs": [
    {
     "name": "stdout",
     "output_type": "stream",
     "text": [
      "1\n"
     ]
    }
   ],
   "source": [
    "import modulo5\n",
    "\n",
    "resultado = modulo5.porcentaje(10, 3)\n",
    "print(resultado) "
   ]
  },
  {
   "cell_type": "code",
   "execution_count": 20,
   "id": "fec67155",
   "metadata": {},
   "outputs": [
    {
     "name": "stdout",
     "output_type": "stream",
     "text": [
      "10000000000\n"
     ]
    }
   ],
   "source": [
    "import modulo6\n",
    "\n",
    "resultado = modulo6.elevado(10, 10)\n",
    "print(resultado)"
   ]
  },
  {
   "cell_type": "code",
   "execution_count": 8,
   "id": "1e933671",
   "metadata": {},
   "outputs": [
    {
     "name": "stdout",
     "output_type": "stream",
     "text": [
      "10\n"
     ]
    }
   ],
   "source": [
    "import modulo7\n",
    "\n",
    "resultado = modulo7.cociente(100, 10)\n",
    "print(resultado)"
   ]
  },
  {
   "cell_type": "code",
   "execution_count": 6,
   "id": "c5003aa9",
   "metadata": {},
   "outputs": [
    {
     "name": "stdout",
     "output_type": "stream",
     "text": [
      "Calculadora en Python\n",
      "Operaciones disponibles:\n",
      "1. Suma\n",
      "2. Resta\n",
      "3. Multiplicación\n",
      "4. División\n",
      "5. Porcentaje\n",
      "6. Cuadrado\n",
      "7. Raíz Cuadrada\n",
      "Seleccione una operación (1-7): 7\n",
      "Ingrese el primer número: 25\n"
     ]
    },
    {
     "ename": "NameError",
     "evalue": "name 'math' is not defined",
     "output_type": "error",
     "traceback": [
      "\u001b[1;31m---------------------------------------------------------------------------\u001b[0m",
      "\u001b[1;31mNameError\u001b[0m                                 Traceback (most recent call last)",
      "Cell \u001b[1;32mIn[6], line 40\u001b[0m\n\u001b[0;32m     38\u001b[0m         resultado \u001b[38;5;241m=\u001b[39m modulo6\u001b[38;5;241m.\u001b[39mcuadrado(a)\n\u001b[0;32m     39\u001b[0m     \u001b[38;5;28;01melif\u001b[39;00m opcion \u001b[38;5;241m==\u001b[39m \u001b[38;5;241m7\u001b[39m:\n\u001b[1;32m---> 40\u001b[0m         resultado \u001b[38;5;241m=\u001b[39m modulo7\u001b[38;5;241m.\u001b[39mraiz_cuadrada(a)\n\u001b[0;32m     41\u001b[0m     \u001b[38;5;28mprint\u001b[39m(\u001b[38;5;124m\"\u001b[39m\u001b[38;5;124mResultado:\u001b[39m\u001b[38;5;124m\"\u001b[39m, resultado)\n\u001b[0;32m     42\u001b[0m \u001b[38;5;28;01melse\u001b[39;00m:\n",
      "File \u001b[1;32m~\\Documents\\Python\\matematicas\\modulo7.py:2\u001b[0m, in \u001b[0;36mraiz_cuadrada\u001b[1;34m(a)\u001b[0m\n\u001b[0;32m      1\u001b[0m \u001b[38;5;28;01mdef\u001b[39;00m \u001b[38;5;21mraiz_cuadrada\u001b[39m(a):\n\u001b[1;32m----> 2\u001b[0m     \u001b[38;5;28;01mreturn\u001b[39;00m math\u001b[38;5;241m.\u001b[39msqrt(a)\n",
      "\u001b[1;31mNameError\u001b[0m: name 'math' is not defined"
     ]
    }
   ],
   "source": [
    "import modulo1\n",
    "import modulo2\n",
    "import modulo3\n",
    "import modulo4\n",
    "import modulo5\n",
    "import modulo6\n",
    "import modulo7\n",
    "\n",
    "print(\"Calculadora en Python\")\n",
    "print(\"Operaciones disponibles:\")\n",
    "print(\"1. Suma\")\n",
    "print(\"2. Resta\")\n",
    "print(\"3. Multiplicación\")\n",
    "print(\"4. División\")\n",
    "print(\"5. Porcentaje\")\n",
    "print(\"6. Cuadrado\")\n",
    "print(\"7. Raíz Cuadrada\")\n",
    "\n",
    "# Elegir una operación\n",
    "opcion = int(input(\"Seleccione una operación (1-7): \"))\n",
    "\n",
    "if opcion in range(1, 8):  # Cambiado el rango para incluir la opción 7\n",
    "    a = float(input(\"Ingrese el primer número: \"))\n",
    "    if opcion in [1, 2, 3, 4, 5]:\n",
    "        b = float(input(\"Ingrese el segundo número: \"))\n",
    "    \n",
    "    if opcion == 1:\n",
    "        resultado = modulo1.suma(a, b)\n",
    "    elif opcion == 2:\n",
    "        resultado = modulo2.resta(a, b)\n",
    "    elif opcion == 3:\n",
    "        resultado = modulo3.multiplicacion(a, b)\n",
    "    elif opcion == 4:\n",
    "        resultado = modulo4.divicion(a, b)\n",
    "    elif opcion == 5:\n",
    "        resultado = modulo5.porcentaje(a, b)\n",
    "    elif opcion == 6:\n",
    "        resultado = modulo6.cuadrado(a)\n",
    "    elif opcion == 7:\n",
    "        resultado = modulo7.raiz_cuadrada(a)\n",
    "    print(\"Resultado:\", resultado)\n",
    "else:\n",
    "    print(\"Opción no válida. Por favor, elija una opción del 1 al 7.\")\n"
   ]
  }
 ],
 "metadata": {
  "kernelspec": {
   "display_name": "Python 3 (ipykernel)",
   "language": "python",
   "name": "python3"
  },
  "language_info": {
   "codemirror_mode": {
    "name": "ipython",
    "version": 3
   },
   "file_extension": ".py",
   "mimetype": "text/x-python",
   "name": "python",
   "nbconvert_exporter": "python",
   "pygments_lexer": "ipython3",
   "version": "3.11.4"
  }
 },
 "nbformat": 4,
 "nbformat_minor": 5
}
