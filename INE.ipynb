{
 "cells": [
  {
   "cell_type": "code",
   "execution_count": 2,
   "id": "19660e13",
   "metadata": {},
   "outputs": [
    {
     "name": "stdout",
     "output_type": "stream",
     "text": [
      "Nombre: jd\n",
      "Apellido: disd\n",
      "Edad: dfj\n",
      "Domicilio: jsd\n",
      "Número clave de tu INE: sdjs\n",
      "Agrega tu curp: sds\n",
      "Agrega tu fecha de nacimiento: ds\n",
      "Agrega tu numero de seccion: ds\n",
      "Agrega tu año de registro: sd\n",
      "Agrega el año de vigencia: sd\n",
      "Agrega tu sexo: ds\n",
      "\n",
      "Datos almacenados en el archivo:\n",
      "nombre: jd\n",
      "apellido: disd\n",
      "edad: dfj\n",
      "domicilio: jsd\n",
      "clave: sdjs\n",
      "curp: sds\n",
      "fecha: ds\n",
      "seccion: ds\n",
      "registro: sd\n",
      "vigencia: sd\n",
      "sexo: ds\n"
     ]
    }
   ],
   "source": [
    "def solicitar_datos_ine():\n",
    "    datos_ine = {}\n",
    "    datos_ine['nombre'] = input(\"Nombre: \")\n",
    "    datos_ine['apellido'] = input(\"Apellido: \")\n",
    "    datos_ine['edad'] = input(\"Edad: \")\n",
    "    datos_ine['domicilio'] = input(\"Domicilio: \")\n",
    "    datos_ine['clave'] = input(\"Número clave de tu INE: \")\n",
    "    datos_ine['curp'] = input(\"Agrega tu curp: \")\n",
    "    datos_ine['fecha'] = input(\"Agrega tu fecha de nacimiento: \")\n",
    "    datos_ine['seccion'] = input(\"Agrega tu numero de seccion: \")\n",
    "    datos_ine['registro'] = input(\"Agrega tu año de registro: \")\n",
    "    datos_ine['vigencia'] = input(\"Agrega el año de vigencia: \")\n",
    "    datos_ine['sexo'] = input(\"Agrega tu sexo: \")\n",
    "    return datos_ine\n",
    "\n",
    "def guardar_datos_archivo(datos_ine, nombre_archivo):\n",
    "    with open(nombre_archivo, \"w\") as archivo:\n",
    "        for clave, valor in datos_ine.items():\n",
    "            archivo.write(f\"{clave}: {valor}\\n\")\n",
    "\n",
    "def leer_y_mostrar_datos_desde_archivo(nombre_archivo):\n",
    "    with open(nombre_archivo, \"r\") as archivo:\n",
    "        for linea in archivo:\n",
    "            print(linea.strip())\n",
    "\n",
    "datos_ine = solicitar_datos_ine()\n",
    "\n",
    "nombre_archivo = \"datos_ine.txt\"\n",
    "\n",
    "guardar_datos_archivo(datos_ine, nombre_archivo)\n",
    "\n",
    "print(\"\\nDatos almacenados en el archivo:\")\n",
    "leer_y_mostrar_datos_desde_archivo(nombre_archivo)\n"
   ]
  }
 ],
 "metadata": {
  "kernelspec": {
   "display_name": "Python 3 (ipykernel)",
   "language": "python",
   "name": "python3"
  },
  "language_info": {
   "codemirror_mode": {
    "name": "ipython",
    "version": 3
   },
   "file_extension": ".py",
   "mimetype": "text/x-python",
   "name": "python",
   "nbconvert_exporter": "python",
   "pygments_lexer": "ipython3",
   "version": "3.11.4"
  }
 },
 "nbformat": 4,
 "nbformat_minor": 5
}
